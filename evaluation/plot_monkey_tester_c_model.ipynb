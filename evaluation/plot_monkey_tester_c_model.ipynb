{
 "cells": [
  {
   "cell_type": "code",
   "execution_count": null,
   "id": "eaaadceb-8756-4378-8c60-b8ef2e357523",
   "metadata": {},
   "outputs": [],
   "source": [
    "import numpy as np\n",
    "from matplotlib import pyplot as plt"
   ]
  },
  {
   "cell_type": "markdown",
   "id": "a373b877-d487-4ccf-afd8-cefa968d8a0f",
   "metadata": {},
   "source": [
    "# Plot of three monkey testers compared with the Approach\n",
    "\n",
    "- Requires two identical C models with different random seeds\n",
    "- Monkey Testers and Eval of C models need to have same amount of interactions\n",
    "- Mean + Stddev over different runs of the same monkey tester\n",
    "- Requires evaluation of C model (use `evaluate_controller.py` script)\n",
    "- C model evaluations are first averaged, then these are again averaged + stddev is computed\n",
    "- This then also plotted\n"
   ]
  },
  {
   "cell_type": "code",
   "execution_count": null,
   "id": "6b6cce34-e752-497b-b1b7-aeb46d640345",
   "metadata": {},
   "outputs": [],
   "source": [
    "random_monkey_dir = \"\"\n",
    "random_widget_monkey_dir = \"\"\n",
    "random_widget_monkey_zero_random_click_prob_dir = \"\"\n",
    "\n",
    "first_controller_model_file = \"\"\n",
    "second_controller_model_file = \"\""
   ]
  },
  {
   "cell_type": "code",
   "execution_count": null,
   "id": "f774d7c2-0aef-4a0c-ae7d-f8ebaab7d2d3",
   "metadata": {},
   "outputs": [],
   "source": [
    "random_monkey_rewards = []\n",
    "random_widget_monkey_rewards = []\n",
    "random_widget_monkey_zero_random_click_prob_rewards = []\n",
    "\n",
    "for monkey_dir in monkey_tester_dirs:\n",
    "    \n",
    "    if i == 0:\n",
    "        monkey_dir = random_monkey_dir\n",
    "        reward_list = random_monkey_rewards\n",
    "    elif i == 1:\n",
    "        monkey_dir = random_widget_monkey_dir\n",
    "        reward_list = random_widget_monkey_rewards\n",
    "    elif i == 2:\n",
    "        monkey_dir = random_widget_monkey_zero_random_click_prob_dir\n",
    "        reward_list = random_widget_monkey_zero_random_click_prob_rewards\n",
    "    \n",
    "    sequence_dirs = os.listdir(monkey_dir)\n",
    "    sequence_dirs.sort()\n",
    "\n",
    "\n",
    "    for seq_dir in sequence_dirs:\n",
    "        sequence_data = np.load(os.path.join(monkey_dir, seq_dir, \"data.npz\"))\n",
    "        reward_list.append(sequence_data[\"rewards\"])\n",
    "        \n",
    "random_monkey_mean = np.mean(random_monkey_rewards, axis=0)\n",
    "random_monkey_std = np.std(random_monkey_rewards, axis=0)\n",
    "\n",
    "random_widget_monkey_mean = np.mean(random_widget_monkey_rewards, axis=0)\n",
    "random_widget_monkey_std = np.std(random_widget_monkey_rewards, axis=0)\n",
    "\n",
    "random_widget_monkey_zero_random_click_prob_mean = np.mean(random_widget_monkey_zero_random_click_prob_rewards, axis=0)\n",
    "random_widget_monkey_zero_random_click_prob_std = np.std(random_widget_monkey_zero_random_click_prob_rewards, axis=0)"
   ]
  },
  {
   "cell_type": "code",
   "execution_count": null,
   "id": "95aa8fbe-ad6e-4fcd-89fd-998cba7a009e",
   "metadata": {},
   "outputs": [],
   "source": [
    "first_controller_rewards = []\n",
    "second_controller_rewards = []\n",
    "\n",
    "\n",
    "first_controller_rewards.append(np.load(first_controller_model_file)[\"all_rewards\"])\n",
    "second_controller_rewards.append(np.load(second_controller_model_file)[\"all_rewards\"])\n",
    "\n",
    "first_controller_mean = np.mean(first_controller_rewards, axis=0)\n",
    "second_controller_mean = np.mean(second_controller_rewards, axis=0)\n",
    "\n",
    "controller_mean = np.mean([first_controller_mean, second_controller_mean], axis=0)\n",
    "controller_std = np.std([first_controller_mean, second_controller_mean], axis=0)"
   ]
  },
  {
   "cell_type": "code",
   "execution_count": null,
   "id": "e4516303-c6d8-4537-9294-bba21b17d2d3",
   "metadata": {},
   "outputs": [],
   "source": [
    "data_length_x = random_monkey_mean.shape\n",
    "\n",
    "assert data_length_x = random_monkey_std.shape\n",
    "assert data_length_x = random_widget_monkey_mean.shape\n",
    "assert data_length_x = random_widget_monkey_std.shape\n",
    "assert data_length_x = random_widget_monkey_zero_random_click_prob_mean.shape\n",
    "assert data_length_x = random_widget_monkey_zero_random_click_prob_std.shape\n",
    "\n",
    "assert data_length_x = controller_mean.shape\n",
    "assert data_length_x = random_monkey_std.shape\n",
    "\n",
    "x_values = np.arange(data_length_x[0])\n",
    "\n",
    "fig, ax = plt.subplots()\n",
    "\n",
    "ax.plot(x_values, random_monkey_mean, label=\"Random Monkey Tester\")\n",
    "ax.fill_between(x_values, random_monkey_mean - random_monkey_std, random_monkey_mean + random_monkey_std, alpha=0.25)\n",
    "\n",
    "ax.plot(x_values, random_widget_monkey_mean, label=\"Random Widget Monkey Tester\")\n",
    "ax.fill_between(x_values, random_widget_monkey_mean - random_widget_monkey_std, random_widget_monkey_mean + random_widget_monkey_std, alpha=0.25)\n",
    "\n",
    "ax.plot(x_values, random_widget_monkey_zero_random_click_prob_mean, label=\"Random Widget Monkey Tester (0.0)\")\n",
    "ax.fill_between(x_values,\n",
    "                 random_widget_monkey_zero_random_click_prob_mean - random_widget_monkey_zero_random_click_prob_std,\n",
    "                 random_widget_monkey_zero_random_click_prob_mean + random_widget_monkey_zero_random_click_prob_std,\n",
    "                 alpha=0.25)\n",
    "\n",
    "ax.plot(x_values, controller_mean, label=\"Best Approach\")\n",
    "ax.fill_between(x_values, controller_mean - controller_std, controller_mean + controller_std, alpha=0.25)\n",
    "\n",
    "ax.set(ylabel=\"Code Coverage (\\%)\", xlabel='Time Steps')\n",
    "ax.legend(loc='upper left')\n",
    "\n",
    "fig.savefig(\"c_model_comparison_monkey_tester.pdf\", bbox_inches='tight')\n",
    "plt.show()"
   ]
  }
 ],
 "metadata": {
  "kernelspec": {
   "display_name": "Python 3",
   "language": "python",
   "name": "python3"
  },
  "language_info": {
   "codemirror_mode": {
    "name": "ipython",
    "version": 3
   },
   "file_extension": ".py",
   "mimetype": "text/x-python",
   "name": "python",
   "nbconvert_exporter": "python",
   "pygments_lexer": "ipython3",
   "version": "3.8.8"
  }
 },
 "nbformat": 4,
 "nbformat_minor": 5
}
